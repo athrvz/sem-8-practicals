{
 "cells": [
  {
   "cell_type": "code",
   "execution_count": 1,
   "id": "9688d3ae",
   "metadata": {},
   "outputs": [],
   "source": [
    "from tensorflow.keras.datasets import imdb"
   ]
  },
  {
   "cell_type": "code",
   "execution_count": 2,
   "id": "8f7d0ccc",
   "metadata": {},
   "outputs": [
    {
     "name": "stdout",
     "output_type": "stream",
     "text": [
      "Downloading data from https://storage.googleapis.com/tensorflow/tf-keras-datasets/imdb.npz\n",
      "17464789/17464789 [==============================] - 5s 0us/step\n"
     ]
    }
   ],
   "source": [
    "(train_data, train_label), (test_data, test_labels) = imdb.load_data(num_words = 10000)"
   ]
  },
  {
   "cell_type": "code",
   "execution_count": 11,
   "id": "1e6910ce",
   "metadata": {},
   "outputs": [],
   "source": [
    "import numpy as np\n",
    "\n",
    "def vectorize_sequences(seq, dim = 10000):\n",
    "    res = np.zeros((len(seq), dim))\n",
    "    for i, seq in enumerate(seq):\n",
    "        res[i, seq] = 1;\n",
    "    return res\n",
    "\n",
    "x_train = vectorize_sequences(train_data)\n",
    "x_test = vectorize_sequences(test_data)"
   ]
  },
  {
   "cell_type": "code",
   "execution_count": 12,
   "id": "b213e94a",
   "metadata": {},
   "outputs": [],
   "source": [
    "y_train = np.asarray(train_label).astype('float32');\n",
    "y_test = np.asarray(test_labels).astype('float32');"
   ]
  },
  {
   "cell_type": "code",
   "execution_count": 13,
   "id": "4f14322a",
   "metadata": {},
   "outputs": [],
   "source": [
    "from tensorflow.keras.models import Sequential\n",
    "from tensorflow.keras.layers import Dense"
   ]
  },
  {
   "cell_type": "code",
   "execution_count": 14,
   "id": "9ffacc69",
   "metadata": {},
   "outputs": [],
   "source": [
    "model = Sequential()\n",
    "model.add(Dense(16, input_shape=(10000, ), activation='relu'))\n",
    "model.add(Dense(16, activation='relu'))\n",
    "model.add(Dense(1, activation='sigmoid'))"
   ]
  },
  {
   "cell_type": "code",
   "execution_count": 15,
   "id": "88f6601d",
   "metadata": {},
   "outputs": [],
   "source": [
    "model.compile(optimizer='adam', loss='mse', metrics=['accuracy'])"
   ]
  },
  {
   "cell_type": "code",
   "execution_count": 16,
   "id": "b12a20c7",
   "metadata": {},
   "outputs": [
    {
     "name": "stdout",
     "output_type": "stream",
     "text": [
      "Model: \"sequential_1\"\n",
      "_________________________________________________________________\n",
      " Layer (type)                Output Shape              Param #   \n",
      "=================================================================\n",
      " dense_3 (Dense)             (None, 16)                160016    \n",
      "                                                                 \n",
      " dense_4 (Dense)             (None, 16)                272       \n",
      "                                                                 \n",
      " dense_5 (Dense)             (None, 1)                 17        \n",
      "                                                                 \n",
      "=================================================================\n",
      "Total params: 160,305\n",
      "Trainable params: 160,305\n",
      "Non-trainable params: 0\n",
      "_________________________________________________________________\n"
     ]
    }
   ],
   "source": [
    "model.summary()"
   ]
  },
  {
   "cell_type": "code",
   "execution_count": 17,
   "id": "282b20a0",
   "metadata": {
    "scrolled": true
   },
   "outputs": [
    {
     "name": "stdout",
     "output_type": "stream",
     "text": [
      "Epoch 1/20\n",
      "35/35 [==============================] - 3s 34ms/step - loss: 0.1903 - accuracy: 0.7692 - val_loss: 0.1230 - val_accuracy: 0.8725\n",
      "Epoch 2/20\n",
      "35/35 [==============================] - 1s 20ms/step - loss: 0.0909 - accuracy: 0.9017 - val_loss: 0.0879 - val_accuracy: 0.8925\n",
      "Epoch 3/20\n",
      "35/35 [==============================] - 1s 20ms/step - loss: 0.0609 - accuracy: 0.9336 - val_loss: 0.0808 - val_accuracy: 0.8943\n",
      "Epoch 4/20\n",
      "35/35 [==============================] - 1s 20ms/step - loss: 0.0466 - accuracy: 0.9506 - val_loss: 0.0806 - val_accuracy: 0.8919\n",
      "Epoch 5/20\n",
      "35/35 [==============================] - 1s 20ms/step - loss: 0.0365 - accuracy: 0.9643 - val_loss: 0.0810 - val_accuracy: 0.8891\n",
      "Epoch 6/20\n",
      "35/35 [==============================] - 1s 19ms/step - loss: 0.0295 - accuracy: 0.9727 - val_loss: 0.0836 - val_accuracy: 0.8877\n",
      "Epoch 7/20\n",
      "35/35 [==============================] - 1s 19ms/step - loss: 0.0239 - accuracy: 0.9806 - val_loss: 0.0859 - val_accuracy: 0.8847\n",
      "Epoch 8/20\n",
      "35/35 [==============================] - 1s 20ms/step - loss: 0.0198 - accuracy: 0.9848 - val_loss: 0.0886 - val_accuracy: 0.8813\n",
      "Epoch 9/20\n",
      "35/35 [==============================] - 1s 21ms/step - loss: 0.0162 - accuracy: 0.9887 - val_loss: 0.0908 - val_accuracy: 0.8788\n",
      "Epoch 10/20\n",
      "35/35 [==============================] - 1s 20ms/step - loss: 0.0136 - accuracy: 0.9905 - val_loss: 0.0929 - val_accuracy: 0.8765\n",
      "Epoch 11/20\n",
      "35/35 [==============================] - 1s 19ms/step - loss: 0.0116 - accuracy: 0.9917 - val_loss: 0.0950 - val_accuracy: 0.8759\n",
      "Epoch 12/20\n",
      "35/35 [==============================] - 1s 19ms/step - loss: 0.0099 - accuracy: 0.9933 - val_loss: 0.0968 - val_accuracy: 0.8739\n",
      "Epoch 13/20\n",
      "35/35 [==============================] - 1s 19ms/step - loss: 0.0088 - accuracy: 0.9939 - val_loss: 0.0984 - val_accuracy: 0.8737\n",
      "Epoch 14/20\n",
      "35/35 [==============================] - 1s 18ms/step - loss: 0.0079 - accuracy: 0.9948 - val_loss: 0.0997 - val_accuracy: 0.8737\n",
      "Epoch 15/20\n",
      "35/35 [==============================] - 1s 18ms/step - loss: 0.0071 - accuracy: 0.9950 - val_loss: 0.1008 - val_accuracy: 0.8729\n",
      "Epoch 16/20\n",
      "35/35 [==============================] - 1s 18ms/step - loss: 0.0065 - accuracy: 0.9951 - val_loss: 0.1019 - val_accuracy: 0.8721\n",
      "Epoch 17/20\n",
      "35/35 [==============================] - 1s 18ms/step - loss: 0.0060 - accuracy: 0.9953 - val_loss: 0.1029 - val_accuracy: 0.8713\n",
      "Epoch 18/20\n",
      "35/35 [==============================] - 1s 18ms/step - loss: 0.0057 - accuracy: 0.9954 - val_loss: 0.1038 - val_accuracy: 0.8715\n",
      "Epoch 19/20\n",
      "35/35 [==============================] - 1s 18ms/step - loss: 0.0054 - accuracy: 0.9955 - val_loss: 0.1051 - val_accuracy: 0.8699\n",
      "Epoch 20/20\n",
      "35/35 [==============================] - 1s 17ms/step - loss: 0.0052 - accuracy: 0.9955 - val_loss: 0.1062 - val_accuracy: 0.8687\n"
     ]
    }
   ],
   "source": [
    "history = model.fit(x_train, y_train, validation_split=0.3, epochs=20, verbose=1, batch_size=512)"
   ]
  },
  {
   "cell_type": "code",
   "execution_count": 18,
   "id": "121cfdb0",
   "metadata": {},
   "outputs": [
    {
     "name": "stdout",
     "output_type": "stream",
     "text": [
      "782/782 [==============================] - 2s 2ms/step - loss: 0.1187 - accuracy: 0.8549\n"
     ]
    },
    {
     "data": {
      "text/plain": [
       "[0.11868622153997421, 0.8549200296401978]"
      ]
     },
     "execution_count": 18,
     "metadata": {},
     "output_type": "execute_result"
    }
   ],
   "source": [
    "model.evaluate(x_test, y_test)"
   ]
  }
 ],
 "metadata": {
  "kernelspec": {
   "display_name": "Python 3 (ipykernel)",
   "language": "python",
   "name": "python3"
  },
  "language_info": {
   "codemirror_mode": {
    "name": "ipython",
    "version": 3
   },
   "file_extension": ".py",
   "mimetype": "text/x-python",
   "name": "python",
   "nbconvert_exporter": "python",
   "pygments_lexer": "ipython3",
   "version": "3.11.2"
  }
 },
 "nbformat": 4,
 "nbformat_minor": 5
}
